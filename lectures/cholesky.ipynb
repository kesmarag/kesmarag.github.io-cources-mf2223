{
 "cells": [
  {
   "cell_type": "code",
   "execution_count": 46,
   "id": "british-bunny",
   "metadata": {},
   "outputs": [],
   "source": [
    "from sympy import symbols, Matrix,latex"
   ]
  },
  {
   "cell_type": "code",
   "execution_count": 47,
   "id": "structural-composer",
   "metadata": {},
   "outputs": [],
   "source": [
    "R = Matrix([\n",
    "    [1, 0.25, -0.2],\n",
    "    [0.25, 1,  0.5],\n",
    "    [-0.2, 0.5, 1]\n",
    "])"
   ]
  },
  {
   "cell_type": "code",
   "execution_count": 48,
   "id": "hungry-sleep",
   "metadata": {
    "scrolled": true
   },
   "outputs": [],
   "source": [
    "L = R.cholesky()"
   ]
  },
  {
   "cell_type": "code",
   "execution_count": 53,
   "id": "greater-chrome",
   "metadata": {},
   "outputs": [
    {
     "data": {
      "text/latex": [
       "$\\displaystyle \\left[\\begin{matrix}1 & 0 & 0\\\\0.25 & 0.968245836551854 & 0\\\\-0.2 & 0.568037557443755 & 0.798331593595877\\end{matrix}\\right]$"
      ],
      "text/plain": [
       "Matrix([\n",
       "[   1,                 0,                 0],\n",
       "[0.25, 0.968245836551854,                 0],\n",
       "[-0.2, 0.568037557443755, 0.798331593595877]])"
      ]
     },
     "execution_count": 53,
     "metadata": {},
     "output_type": "execute_result"
    }
   ],
   "source": [
    "L"
   ]
  },
  {
   "cell_type": "code",
   "execution_count": 49,
   "id": "smoking-entity",
   "metadata": {},
   "outputs": [
    {
     "name": "stdout",
     "output_type": "stream",
     "text": [
      "\\left[\\begin{matrix}1 & 0.25 & -0.2\\\\0 & 0.968245836551854 & 0.568037557443755\\\\0 & 0 & 0.798331593595877\\end{matrix}\\right]\n"
     ]
    }
   ],
   "source": [
    "print(latex(L.transpose()))"
   ]
  },
  {
   "cell_type": "code",
   "execution_count": 50,
   "id": "consecutive-hybrid",
   "metadata": {},
   "outputs": [
    {
     "name": "stdout",
     "output_type": "stream",
     "text": [
      "\\left[\\begin{matrix}1 & 0.25 & -0.2\\\\0.25 & 1 & 0.5\\\\-0.2 & 0.5 & 1\\end{matrix}\\right]\n"
     ]
    }
   ],
   "source": [
    "print(latex(R))"
   ]
  },
  {
   "cell_type": "code",
   "execution_count": 51,
   "id": "alternative-circulation",
   "metadata": {},
   "outputs": [
    {
     "data": {
      "text/plain": [
       "(Matrix([\n",
       " [   1,                 0, 0],\n",
       " [0.25,                 1, 0],\n",
       " [-0.2, 0.586666666666667, 1]]),\n",
       " Matrix([\n",
       " [1,   0.25,              -0.2],\n",
       " [0, 0.9375,              0.55],\n",
       " [0,      0, 0.637333333333333]]),\n",
       " [])"
      ]
     },
     "execution_count": 51,
     "metadata": {},
     "output_type": "execute_result"
    }
   ],
   "source": [
    "R.LUdecomposition()"
   ]
  },
  {
   "cell_type": "code",
   "execution_count": null,
   "id": "entire-gates",
   "metadata": {},
   "outputs": [],
   "source": []
  }
 ],
 "metadata": {
  "kernelspec": {
   "display_name": "Python 3",
   "language": "python",
   "name": "python3"
  },
  "language_info": {
   "codemirror_mode": {
    "name": "ipython",
    "version": 3
   },
   "file_extension": ".py",
   "mimetype": "text/x-python",
   "name": "python",
   "nbconvert_exporter": "python",
   "pygments_lexer": "ipython3",
   "version": "3.7.9"
  }
 },
 "nbformat": 4,
 "nbformat_minor": 5
}
